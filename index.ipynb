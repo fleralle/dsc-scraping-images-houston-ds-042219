{
 "cells": [
  {
   "cell_type": "markdown",
   "metadata": {},
   "source": [
    "# Scraping Images\n",
    "\n",
    "## Introduction\n",
    "\n",
    "You've definitely started to hone your skills at scraping now! With that, let's look at another data format you're apt to want to pull from the web: images! In this lesson, you'll see how to save images from the web as well as display them in a pandas DataFrame for easy perusal!\n",
    "\n",
    "## Objectives\n",
    "\n",
    "You will be able to:\n",
    "\n",
    "* Save Images from the Web\n",
    "* Display Images in a Pandas DataFrame"
   ]
  },
  {
   "cell_type": "markdown",
   "metadata": {},
   "source": [
    "## Grabbing an HTML Page\n",
    "\n",
    "Start with the same page that you've been working with: books.toscrape.com.\n",
    "\n",
    "<img src=\"images/book-section.png\">"
   ]
  },
  {
   "cell_type": "code",
   "execution_count": 1,
   "metadata": {},
   "outputs": [],
   "source": [
    "from bs4 import BeautifulSoup\n",
    "import requests"
   ]
  },
  {
   "cell_type": "code",
   "execution_count": 2,
   "metadata": {},
   "outputs": [],
   "source": [
    "html_page = requests.get('http://books.toscrape.com/') #Make a get request to retrieve the page\n",
    "soup = BeautifulSoup(html_page.content, 'html.parser') #Pass the page contents to beautiful soup for parsing\n",
    "warning = soup.find('div', class_=\"alert alert-warning\")\n",
    "book_container = warning.nextSibling.nextSibling"
   ]
  },
  {
   "cell_type": "markdown",
   "metadata": {},
   "source": [
    "## Finding Images\n",
    "\n",
    "First, simply retrieve a list of images by searching for `img` tags with beautiful soup:"
   ]
  },
  {
   "cell_type": "code",
   "execution_count": 3,
   "metadata": {},
   "outputs": [
    {
     "data": {
      "text/plain": [
       "<img alt=\"A Light in the Attic\" class=\"thumbnail\" src=\"media/cache/2c/da/2cdad67c44b002e7ead0cc35693c0e8b.jpg\"/>"
      ]
     },
     "execution_count": 3,
     "metadata": {},
     "output_type": "execute_result"
    }
   ],
   "source": [
    "images = book_container.findAll('img')\n",
    "ex_img = images[0] #Preview an entry\n",
    "ex_img"
   ]
  },
  {
   "cell_type": "code",
   "execution_count": 5,
   "metadata": {},
   "outputs": [
    {
     "data": {
      "text/plain": [
       "'media/cache/2c/da/2cdad67c44b002e7ead0cc35693c0e8b.jpg'"
      ]
     },
     "execution_count": 5,
     "metadata": {},
     "output_type": "execute_result"
    }
   ],
   "source": [
    "#Use tab complete to preview what types of methods are available for the entry\n",
    "ex_img.attrs['src']"
   ]
  },
  {
   "cell_type": "code",
   "execution_count": 6,
   "metadata": {},
   "outputs": [
    {
     "data": {
      "text/plain": [
       "'media/cache/2c/da/2cdad67c44b002e7ead0cc35693c0e8b.jpg'"
      ]
     },
     "execution_count": 6,
     "metadata": {},
     "output_type": "execute_result"
    }
   ],
   "source": [
    "#While there's plenty of other methods to explore, simply select the url for the image for now.\n",
    "ex_img.attrs['src']"
   ]
  },
  {
   "cell_type": "markdown",
   "metadata": {},
   "source": [
    "## Saving Images\n",
    "\n",
    "Great! Now that you have a url (well, a url extension to be more precise) you can download the image locally!"
   ]
  },
  {
   "cell_type": "code",
   "execution_count": 6,
   "metadata": {},
   "outputs": [],
   "source": [
    "import shutil"
   ]
  },
  {
   "cell_type": "code",
   "execution_count": 7,
   "metadata": {},
   "outputs": [],
   "source": [
    "url_base = \"http://books.toscrape.com/\"\n",
    "url_ext = ex_img.attrs['src']\n",
    "full_url = url_base + url_ext\n",
    "r = requests.get(full_url, stream=True)\n",
    "if r.status_code == 200:\n",
    "    with open(\"images/book1.jpg\", 'wb') as f:\n",
    "        r.raw.decode_content = True\n",
    "        shutil.copyfileobj(r.raw, f)"
   ]
  },
  {
   "cell_type": "markdown",
   "metadata": {},
   "source": [
    "## Showing Images in the File Directory\n",
    "\n",
    "You can also run a simple bash command in a standalone cell to preview that the image is indeed there:"
   ]
  },
  {
   "cell_type": "code",
   "execution_count": 8,
   "metadata": {},
   "outputs": [
    {
     "name": "stdout",
     "output_type": "stream",
     "text": [
      "book10.jpg  book14.jpg  book18.jpg  book2.jpg  book6.jpg  book-section.png\r\n",
      "book11.jpg  book15.jpg  book19.jpg  book3.jpg  book7.jpg\r\n",
      "book12.jpg  book16.jpg  book1.jpg   book4.jpg  book8.jpg\r\n",
      "book13.jpg  book17.jpg  book20.jpg  book5.jpg  book9.jpg\r\n"
     ]
    }
   ],
   "source": [
    "ls images/"
   ]
  },
  {
   "cell_type": "markdown",
   "metadata": {},
   "source": [
    "## Previewing an Individual Image"
   ]
  },
  {
   "cell_type": "code",
   "execution_count": 11,
   "metadata": {},
   "outputs": [],
   "source": [
    "import matplotlib.pyplot as plt\n",
    "import matplotlib.image as mpimg"
   ]
  },
  {
   "cell_type": "code",
   "execution_count": 12,
   "metadata": {},
   "outputs": [
    {
     "ename": "ValueError",
     "evalue": "Only know how to handle extensions: ['png']; with Pillow installed matplotlib can handle more images",
     "output_type": "error",
     "traceback": [
      "\u001b[0;31m\u001b[0m",
      "\u001b[0;31mModuleNotFoundError\u001b[0mTraceback (most recent call last)",
      "\u001b[0;32m/opt/conda/envs/learn-env/lib/python3.6/site-packages/matplotlib/image.py\u001b[0m in \u001b[0;36mimread\u001b[0;34m(fname, format)\u001b[0m\n\u001b[1;32m   1353\u001b[0m         \u001b[0;32mtry\u001b[0m\u001b[0;34m:\u001b[0m\u001b[0;34m\u001b[0m\u001b[0m\n\u001b[0;32m-> 1354\u001b[0;31m             \u001b[0;32mfrom\u001b[0m \u001b[0mPIL\u001b[0m \u001b[0;32mimport\u001b[0m \u001b[0mImage\u001b[0m\u001b[0;34m\u001b[0m\u001b[0m\n\u001b[0m\u001b[1;32m   1355\u001b[0m         \u001b[0;32mexcept\u001b[0m \u001b[0mImportError\u001b[0m\u001b[0;34m:\u001b[0m\u001b[0;34m\u001b[0m\u001b[0m\n",
      "\u001b[0;31mModuleNotFoundError\u001b[0m: No module named 'PIL'",
      "\nDuring handling of the above exception, another exception occurred:\n",
      "\u001b[0;31mValueError\u001b[0mTraceback (most recent call last)",
      "\u001b[0;32m<ipython-input-12-862efed480cc>\u001b[0m in \u001b[0;36m<module>\u001b[0;34m()\u001b[0m\n\u001b[0;32m----> 1\u001b[0;31m \u001b[0mimg\u001b[0m\u001b[0;34m=\u001b[0m\u001b[0mmpimg\u001b[0m\u001b[0;34m.\u001b[0m\u001b[0mimread\u001b[0m\u001b[0;34m(\u001b[0m\u001b[0;34m'images/book1.jpg'\u001b[0m\u001b[0;34m)\u001b[0m\u001b[0;34m\u001b[0m\u001b[0m\n\u001b[0m\u001b[1;32m      2\u001b[0m \u001b[0mimgplot\u001b[0m \u001b[0;34m=\u001b[0m \u001b[0mplt\u001b[0m\u001b[0;34m.\u001b[0m\u001b[0mimshow\u001b[0m\u001b[0;34m(\u001b[0m\u001b[0mimg\u001b[0m\u001b[0;34m)\u001b[0m\u001b[0;34m\u001b[0m\u001b[0m\n\u001b[1;32m      3\u001b[0m \u001b[0mplt\u001b[0m\u001b[0;34m.\u001b[0m\u001b[0mshow\u001b[0m\u001b[0;34m(\u001b[0m\u001b[0;34m)\u001b[0m\u001b[0;34m\u001b[0m\u001b[0m\n",
      "\u001b[0;32m/opt/conda/envs/learn-env/lib/python3.6/site-packages/matplotlib/image.py\u001b[0m in \u001b[0;36mimread\u001b[0;34m(fname, format)\u001b[0m\n\u001b[1;32m   1356\u001b[0m             raise ValueError('Only know how to handle extensions: %s; '\n\u001b[1;32m   1357\u001b[0m                              \u001b[0;34m'with Pillow installed matplotlib can handle '\u001b[0m\u001b[0;34m\u001b[0m\u001b[0m\n\u001b[0;32m-> 1358\u001b[0;31m                              'more images' % list(handlers))\n\u001b[0m\u001b[1;32m   1359\u001b[0m         \u001b[0;32mwith\u001b[0m \u001b[0mImage\u001b[0m\u001b[0;34m.\u001b[0m\u001b[0mopen\u001b[0m\u001b[0;34m(\u001b[0m\u001b[0mfname\u001b[0m\u001b[0;34m)\u001b[0m \u001b[0;32mas\u001b[0m \u001b[0mimage\u001b[0m\u001b[0;34m:\u001b[0m\u001b[0;34m\u001b[0m\u001b[0m\n\u001b[1;32m   1360\u001b[0m             \u001b[0;32mreturn\u001b[0m \u001b[0mpil_to_array\u001b[0m\u001b[0;34m(\u001b[0m\u001b[0mimage\u001b[0m\u001b[0;34m)\u001b[0m\u001b[0;34m\u001b[0m\u001b[0m\n",
      "\u001b[0;31mValueError\u001b[0m: Only know how to handle extensions: ['png']; with Pillow installed matplotlib can handle more images"
     ]
    }
   ],
   "source": [
    "img=mpimg.imread('images/book1.jpg')\n",
    "imgplot = plt.imshow(img)\n",
    "plt.show()"
   ]
  },
  {
   "cell_type": "code",
   "execution_count": 13,
   "metadata": {},
   "outputs": [
    {
     "name": "stdout",
     "output_type": "stream",
     "text": [
      "absl-py==0.7.1\r\n",
      "alembic==1.0.9\r\n",
      "asn1crypto==0.24.0\r\n",
      "astor==0.7.1\r\n",
      "atomicwrites==1.3.0\r\n",
      "attrs==19.1.0\r\n",
      "backcall==0.1.0\r\n",
      "beautifulsoup4==4.7.1\r\n",
      "bleach==1.5.0\r\n",
      "boto==2.49.0\r\n",
      "boto3==1.9.134\r\n",
      "botocore==1.12.134\r\n",
      "branca==0.3.1\r\n",
      "bz2file==0.98\r\n",
      "certifi==2018.8.13\r\n",
      "cffi==1.11.5\r\n",
      "chardet==3.0.4\r\n",
      "cryptography==2.3.1\r\n",
      "cryptography-vectors==2.3.1\r\n",
      "cycler==0.10.0\r\n",
      "Cython==0.28.5\r\n",
      "decorator==4.3.0\r\n",
      "defusedxml==0.6.0\r\n",
      "docutils==0.14\r\n",
      "entrypoints==0.3\r\n",
      "folium==0.8.3\r\n",
      "gast==0.2.2\r\n",
      "gensim==3.4.0\r\n",
      "graphviz==0.10.1\r\n",
      "grpcio==1.20.1\r\n",
      "h5py==2.9.0\r\n",
      "html5lib==0.9999999\r\n",
      "idna==2.7\r\n",
      "imbalanced-learn==0.4.3\r\n",
      "ipykernel==5.1.0\r\n",
      "ipynb==0.5.1\r\n",
      "ipython==6.5.0\r\n",
      "ipython-genutils==0.2.0\r\n",
      "jedi==0.12.1\r\n",
      "Jinja2==2.10.1\r\n",
      "jmespath==0.9.4\r\n",
      "jsonschema==2.6.0\r\n",
      "jupyter-client==5.2.4\r\n",
      "jupyter-core==4.4.0\r\n",
      "jupyterhub==0.8.1\r\n",
      "jupyterlab==0.31.12\r\n",
      "jupyterlab-launcher==0.10.5\r\n",
      "Keras==2.2.1\r\n",
      "Keras-Applications==1.0.4\r\n",
      "Keras-Preprocessing==1.0.2\r\n",
      "kiwisolver==1.1.0\r\n",
      "Mako==1.0.9\r\n",
      "Markdown==3.1\r\n",
      "MarkupSafe==1.1.1\r\n",
      "matplotlib==3.0.2\r\n",
      "mistune==0.8.4\r\n",
      "mkl-fft==1.0.12\r\n",
      "mkl-random==1.0.2\r\n",
      "more-itertools==7.0.0\r\n",
      "nb-conda==2.2.1\r\n",
      "nb-conda-kernels==2.2.1\r\n",
      "nbconvert==5.5.0\r\n",
      "nbformat==4.4.0\r\n",
      "networkx==2.2\r\n",
      "nltk==3.4.1\r\n",
      "notebook==5.2.2\r\n",
      "numpy==1.16.3\r\n",
      "obscure==1.0.1\r\n",
      "pamela==1.0.0\r\n",
      "pandas==0.23.4\r\n",
      "pandocfilters==1.4.2\r\n",
      "parso==0.3.1\r\n",
      "patsy==0.5.1\r\n",
      "pexpect==4.6.0\r\n",
      "pickleshare==0.7.4\r\n",
      "plotly==3.1.0\r\n",
      "pluggy==0.11.0\r\n",
      "prompt-toolkit==1.0.15\r\n",
      "protobuf==3.7.1\r\n",
      "ptyprocess==0.6.0\r\n",
      "py==1.8.0\r\n",
      "py4j==0.10.7\r\n",
      "pycparser==2.18\r\n",
      "pydotplus==2.0.2\r\n",
      "Pygments==2.2.0\r\n",
      "pyOpenSSL==18.0.0\r\n",
      "pyparsing==2.4.0\r\n",
      "PySocks==1.6.8\r\n",
      "pyspark==2.4.0\r\n",
      "pytest==3.7.0\r\n",
      "python-dateutil==2.8.0\r\n",
      "python-editor==1.0.4\r\n",
      "python-oauth2==1.1.0\r\n",
      "pytz==2018.5\r\n",
      "PyYAML==5.1\r\n",
      "pyzmq==18.0.0\r\n",
      "requests==2.19.1\r\n",
      "retrying==1.3.3\r\n",
      "s3transfer==0.2.0\r\n",
      "scikit-learn==0.20.2\r\n",
      "scipy==1.1.0\r\n",
      "seaborn==0.9.0\r\n",
      "simplegeneric==0.8.1\r\n",
      "six==1.11.0\r\n",
      "smart-open==1.8.2\r\n",
      "soupsieve==1.8\r\n",
      "SQLAlchemy==1.3.3\r\n",
      "statsmodels==0.9.0\r\n",
      "tensorboard==1.6.0\r\n",
      "tensorflow==1.6.0\r\n",
      "termcolor==1.1.0\r\n",
      "terminado==0.8.2\r\n",
      "testpath==0.4.2\r\n",
      "tornado==4.5.3\r\n",
      "tqdm==4.31.1\r\n",
      "traitlets==4.3.2\r\n",
      "urllib3==1.23\r\n",
      "wcwidth==0.1.7\r\n",
      "webencodings==0.5.1\r\n",
      "Werkzeug==0.15.2\r\n",
      "xlrd==1.1.0\r\n"
     ]
    }
   ],
   "source": [
    "!pip freeze"
   ]
  },
  {
   "cell_type": "markdown",
   "metadata": {},
   "source": [
    "## Displaying Images in Pandas DataFrames\n",
    "\n",
    "You can even display images within a pandas DataFrame by using a little HTML yourself!"
   ]
  },
  {
   "cell_type": "code",
   "execution_count": 16,
   "metadata": {},
   "outputs": [],
   "source": [
    "import pandas as pd\n",
    "from IPython.display import Image, HTML"
   ]
  },
  {
   "cell_type": "code",
   "execution_count": 18,
   "metadata": {},
   "outputs": [
    {
     "data": {
      "text/html": [
       "<table border=\"1\" class=\"dataframe\">\n",
       "  <thead>\n",
       "    <tr style=\"text-align: right;\">\n",
       "      <th></th>\n",
       "      <th>title</th>\n",
       "      <th>cover</th>\n",
       "    </tr>\n",
       "  </thead>\n",
       "  <tbody>\n",
       "    <tr>\n",
       "      <th>0</th>\n",
       "      <td>A Light in the Attic</td>\n",
       "      <td><img src=\"images/book1.jpg\"/></td>\n",
       "    </tr>\n",
       "  </tbody>\n",
       "</table>"
      ],
      "text/plain": [
       "<IPython.core.display.HTML object>"
      ]
     },
     "execution_count": 18,
     "metadata": {},
     "output_type": "execute_result"
    }
   ],
   "source": [
    "row1 = [ex_img.attrs['alt'], '<img src=\"images/book1.jpg\"/>']\n",
    "df = pd.DataFrame(row1).transpose()\n",
    "df.columns = ['title', 'cover']\n",
    "HTML(df.to_html(escape=False))"
   ]
  },
  {
   "cell_type": "markdown",
   "metadata": {},
   "source": [
    "## All Together Now"
   ]
  },
  {
   "cell_type": "code",
   "execution_count": 22,
   "metadata": {},
   "outputs": [
    {
     "name": "stdout",
     "output_type": "stream",
     "text": [
      "Number of rows:  20\n"
     ]
    },
    {
     "data": {
      "text/html": [
       "<table border=\"1\" class=\"dataframe\">\n",
       "  <thead>\n",
       "    <tr style=\"text-align: right;\">\n",
       "      <th></th>\n",
       "      <th>title</th>\n",
       "      <th>cover</th>\n",
       "    </tr>\n",
       "  </thead>\n",
       "  <tbody>\n",
       "    <tr>\n",
       "      <th>0</th>\n",
       "      <td>A Light in the Attic</td>\n",
       "      <td><img src=\"images/book1.jpg\"/></td>\n",
       "    </tr>\n",
       "    <tr>\n",
       "      <th>1</th>\n",
       "      <td>A Light in the Attic</td>\n",
       "      <td><img src=\"images/book2.jpg\"/></td>\n",
       "    </tr>\n",
       "    <tr>\n",
       "      <th>2</th>\n",
       "      <td>A Light in the Attic</td>\n",
       "      <td><img src=\"images/book3.jpg\"/></td>\n",
       "    </tr>\n",
       "    <tr>\n",
       "      <th>3</th>\n",
       "      <td>A Light in the Attic</td>\n",
       "      <td><img src=\"images/book4.jpg\"/></td>\n",
       "    </tr>\n",
       "    <tr>\n",
       "      <th>4</th>\n",
       "      <td>A Light in the Attic</td>\n",
       "      <td><img src=\"images/book5.jpg\"/></td>\n",
       "    </tr>\n",
       "    <tr>\n",
       "      <th>5</th>\n",
       "      <td>A Light in the Attic</td>\n",
       "      <td><img src=\"images/book6.jpg\"/></td>\n",
       "    </tr>\n",
       "    <tr>\n",
       "      <th>6</th>\n",
       "      <td>A Light in the Attic</td>\n",
       "      <td><img src=\"images/book7.jpg\"/></td>\n",
       "    </tr>\n",
       "    <tr>\n",
       "      <th>7</th>\n",
       "      <td>A Light in the Attic</td>\n",
       "      <td><img src=\"images/book8.jpg\"/></td>\n",
       "    </tr>\n",
       "    <tr>\n",
       "      <th>8</th>\n",
       "      <td>A Light in the Attic</td>\n",
       "      <td><img src=\"images/book9.jpg\"/></td>\n",
       "    </tr>\n",
       "    <tr>\n",
       "      <th>9</th>\n",
       "      <td>A Light in the Attic</td>\n",
       "      <td><img src=\"images/book10.jpg\"/></td>\n",
       "    </tr>\n",
       "    <tr>\n",
       "      <th>10</th>\n",
       "      <td>A Light in the Attic</td>\n",
       "      <td><img src=\"images/book11.jpg\"/></td>\n",
       "    </tr>\n",
       "    <tr>\n",
       "      <th>11</th>\n",
       "      <td>A Light in the Attic</td>\n",
       "      <td><img src=\"images/book12.jpg\"/></td>\n",
       "    </tr>\n",
       "    <tr>\n",
       "      <th>12</th>\n",
       "      <td>A Light in the Attic</td>\n",
       "      <td><img src=\"images/book13.jpg\"/></td>\n",
       "    </tr>\n",
       "    <tr>\n",
       "      <th>13</th>\n",
       "      <td>A Light in the Attic</td>\n",
       "      <td><img src=\"images/book14.jpg\"/></td>\n",
       "    </tr>\n",
       "    <tr>\n",
       "      <th>14</th>\n",
       "      <td>A Light in the Attic</td>\n",
       "      <td><img src=\"images/book15.jpg\"/></td>\n",
       "    </tr>\n",
       "    <tr>\n",
       "      <th>15</th>\n",
       "      <td>A Light in the Attic</td>\n",
       "      <td><img src=\"images/book16.jpg\"/></td>\n",
       "    </tr>\n",
       "    <tr>\n",
       "      <th>16</th>\n",
       "      <td>A Light in the Attic</td>\n",
       "      <td><img src=\"images/book17.jpg\"/></td>\n",
       "    </tr>\n",
       "    <tr>\n",
       "      <th>17</th>\n",
       "      <td>A Light in the Attic</td>\n",
       "      <td><img src=\"images/book18.jpg\"/></td>\n",
       "    </tr>\n",
       "    <tr>\n",
       "      <th>18</th>\n",
       "      <td>A Light in the Attic</td>\n",
       "      <td><img src=\"images/book19.jpg\"/></td>\n",
       "    </tr>\n",
       "    <tr>\n",
       "      <th>19</th>\n",
       "      <td>A Light in the Attic</td>\n",
       "      <td><img src=\"images/book20.jpg\"/></td>\n",
       "    </tr>\n",
       "  </tbody>\n",
       "</table>"
      ],
      "text/plain": [
       "<IPython.core.display.HTML object>"
      ]
     },
     "execution_count": 22,
     "metadata": {},
     "output_type": "execute_result"
    }
   ],
   "source": [
    "data = []\n",
    "for n, img in enumerate(images):\n",
    "    url_base = \"http://books.toscrape.com/\"\n",
    "    url_ext = img.attrs['src']\n",
    "    full_url = url_base + url_ext\n",
    "    r = requests.get(full_url, stream=True)\n",
    "    path = \"images/book{}.jpg\".format(n+1)\n",
    "    title = ex_img.attrs['alt']\n",
    "    if r.status_code == 200:\n",
    "        with open(path, 'wb') as f:\n",
    "            r.raw.decode_content = True\n",
    "            shutil.copyfileobj(r.raw, f)\n",
    "        row = [title, '<img src=\"{}\"/>'.format(path)]\n",
    "        data.append(row)\n",
    "df = pd.DataFrame(data)\n",
    "print('Number of rows: ', len(df))\n",
    "df.columns = ['title', 'cover']\n",
    "HTML(df.to_html(escape=False))   "
   ]
  },
  {
   "cell_type": "markdown",
   "metadata": {},
   "source": [
    "## Summary\n",
    "\n",
    "Voila! You really are turning into a scraping champion! Now go get scraping!"
   ]
  }
 ],
 "metadata": {
  "kernelspec": {
   "display_name": "Python 3",
   "language": "python",
   "name": "python3"
  },
  "language_info": {
   "codemirror_mode": {
    "name": "ipython",
    "version": 3
   },
   "file_extension": ".py",
   "mimetype": "text/x-python",
   "name": "python",
   "nbconvert_exporter": "python",
   "pygments_lexer": "ipython3",
   "version": "3.6.6"
  }
 },
 "nbformat": 4,
 "nbformat_minor": 2
}
